{
  "cells": [
    {
      "cell_type": "markdown",
      "metadata": {
        "id": "xeTjTouuuHqT"
      },
      "source": [
        "# Colabで全文検索（その5：PGroonga編）\n",
        "各種全文検索ツールをColabで動かしてみるシリーズです。全7回の予定です。今回はPGroongaです。PGroongaはGroongaをPostgreSQLで使えるようにした拡張機能です。PostgreSQLのネイティブな全文検索に対してどれぐらい優位性があるのでしょうか。\n",
        "\n",
        "処理時間の計測はストレージのキャッシュとの兼ね合いがあるので、2回測ります。2回目は全てがメモリに載った状態での性能評価になります。ただ1回目もデータを投入した直後なので、メモリに載ってしまっている可能性があります。"
      ]
    },
    {
      "cell_type": "markdown",
      "metadata": {
        "id": "ontwwvVwWwmt"
      },
      "source": [
        "## 準備\n",
        "\n",
        "まずは検索対象のテキストを日本語wikiから取得して、Google Driveに保存します。（※ Google Driveに約１GBの空き容量が必要です。以前のデータが残っている場合は取得せず再利用します。）"
      ]
    },
    {
      "cell_type": "markdown",
      "metadata": {},
      "source": [
        "Google Driveのマウント"
      ]
    },
    {
      "cell_type": "code",
      "execution_count": 1,
      "metadata": {
        "colab": {
          "base_uri": "https://localhost:8080/"
        },
        "id": "DnAnIrJk162c",
        "outputId": "28bd2506-ea81-4650-ecd7-6302618f2af2"
      },
      "outputs": [
        {
          "name": "stdout",
          "output_type": "stream",
          "text": [
            "Mounted at /content/drive\n"
          ]
        }
      ],
      "source": [
        "from google.colab import drive\n",
        "drive.mount('/content/drive')"
      ]
    },
    {
      "cell_type": "markdown",
      "metadata": {},
      "source": [
        "jawikiの取得とjson形式に変換。90分ほど時間がかかります。他の全文検索シリーズでも同じデータを使うので、他の記事も試す場合は wiki.json.bz2 を捨てずに残しておくことをおすすめします。"
      ]
    },
    {
      "cell_type": "code",
      "execution_count": 2,
      "metadata": {
        "colab": {
          "base_uri": "https://localhost:8080/"
        },
        "id": "5AbKu4okMHam",
        "outputId": "3349246c-6a40-4eef-cff0-f7f5dff9a136"
      },
      "outputs": [
        {
          "name": "stdout",
          "output_type": "stream",
          "text": [
            "/content\n",
            "CPU times: user 1.77 ms, sys: 121 µs, total: 1.89 ms\n",
            "Wall time: 3.58 ms\n"
          ]
        }
      ],
      "source": [
        "%%time\n",
        "%cd /content/\n",
        "import os\n",
        "if not os.path.exists('/content/drive/MyDrive/wiki.json.bz2'):\n",
        "    !wget https://dumps.wikimedia.org/jawiki/latest/jawiki-latest-pages-articles.xml.bz2\n",
        "    !pip install wikiextractor\n",
        "    !python -m wikiextractor.WikiExtractor --no-templates --processes 4 --json -b 10G -o - jawiki-latest-pages-articles.xml.bz2 | bzip2 -c > /content/drive/MyDrive/wiki.json.bz2"
      ]
    },
    {
      "cell_type": "markdown",
      "metadata": {},
      "source": [
        "json形式に変換されたデータを確認"
      ]
    },
    {
      "cell_type": "code",
      "execution_count": 3,
      "metadata": {
        "colab": {
          "base_uri": "https://localhost:8080/"
        },
        "id": "B9xEcGcQrimv",
        "outputId": "28befa8f-4a6f-4950-d3aa-76f5439bc372"
      },
      "outputs": [
        {
          "name": "stdout",
          "output_type": "stream",
          "text": [
            "アンパサンド\tアンパサンド（&amp;, ）は、並立助詞「…と…」を意味する記号である。ラテン\n",
            "言語\t言語（げんご）は、広辞苑や大辞泉には次のように解説されている。『日本大百科事典』\n",
            "日本語\t 日本語（にほんご、にっぽんご）は、日本国内や、かつての日本領だった国、そして日\n",
            "地理学\t地理学（ちりがく、、、伊：geografia、）は、。地域や空間、場所、自然環境\n",
            "EU (曖昧さ回避)\tEU\n",
            "国の一覧\t国の一覧（くにのいちらん）は、世界の独立国の一覧。対象.国際法上国家と言えるか否\n"
          ]
        }
      ],
      "source": [
        "import json\n",
        "import bz2\n",
        "\n",
        "with bz2.open('/content/drive/MyDrive/wiki.json.bz2', 'rt', encoding='utf-8') as fin:\n",
        "    for n, line in enumerate(fin):\n",
        "        data = json.loads(line)\n",
        "        print(data['title'].strip(), data['text'].replace('\\n', '')[:40], sep='\\t')\n",
        "        if n == 5:\n",
        "            break"
      ]
    },
    {
      "cell_type": "markdown",
      "metadata": {
        "id": "7Ue8XmiMu541"
      },
      "source": [
        "## PostgreSQLのインストール"
      ]
    },
    {
      "cell_type": "code",
      "execution_count": null,
      "metadata": {
        "id": "Ngbj4GaFDn7F"
      },
      "outputs": [],
      "source": [
        "!sudo apt update\n",
        "!sudo apt install postgresql"
      ]
    },
    {
      "cell_type": "markdown",
      "metadata": {
        "id": "6Hzf0V_swmYB"
      },
      "source": [
        "ローカルから無条件でアクセスできるようにconfファイルを書き換えます。"
      ]
    },
    {
      "cell_type": "code",
      "execution_count": 2,
      "metadata": {
        "id": "LVu7rmiVMOnI"
      },
      "outputs": [],
      "source": [
        "!sed -i -e 's/peer/trust/g' /etc/postgresql/10/main/pg_hba.conf"
      ]
    },
    {
      "cell_type": "markdown",
      "metadata": {
        "id": "YyNnZMYpwi7O"
      },
      "source": [
        "PostgreSQLを起動します。"
      ]
    },
    {
      "cell_type": "code",
      "execution_count": 29,
      "metadata": {
        "colab": {
          "base_uri": "https://localhost:8080/"
        },
        "id": "SXMiP1OYEevw",
        "outputId": "45b70a2e-9115-466b-8e33-12031c5b746c"
      },
      "outputs": [
        {
          "name": "stdout",
          "output_type": "stream",
          "text": [
            " * Starting PostgreSQL 10 database server\n",
            "   ...done.\n"
          ]
        }
      ],
      "source": [
        "!service postgresql start"
      ]
    },
    {
      "cell_type": "markdown",
      "metadata": {
        "id": "BbhtysDMwOpg"
      },
      "source": [
        "## PGroongaのインストール"
      ]
    },
    {
      "cell_type": "code",
      "execution_count": null,
      "metadata": {
        "id": "NVPDSdA6AZMv"
      },
      "outputs": [],
      "source": [
        "!sudo apt install -y software-properties-common\n",
        "!sudo add-apt-repository -y universe\n",
        "!sudo add-apt-repository -y ppa:groonga/ppa\n",
        "!sudo apt update\n",
        "!sudo apt install -y -V postgresql-10-pgroonga"
      ]
    },
    {
      "cell_type": "markdown",
      "metadata": {
        "id": "O_1f8KSnw3Qk"
      },
      "source": [
        "## DBの作成"
      ]
    },
    {
      "cell_type": "markdown",
      "metadata": {
        "id": "v5jpt8QCxHul"
      },
      "source": [
        "データベースを作成します"
      ]
    },
    {
      "cell_type": "code",
      "execution_count": 8,
      "metadata": {
        "colab": {
          "base_uri": "https://localhost:8080/"
        },
        "id": "jP8xKSakCvpA",
        "outputId": "84c33fde-9ac5-4e35-a0d6-6cb8ec6ac1b3"
      },
      "outputs": [
        {
          "name": "stdout",
          "output_type": "stream",
          "text": [
            "CREATE DATABASE\n"
          ]
        }
      ],
      "source": [
        "!sudo -u postgres -H psql --command 'CREATE DATABASE db'"
      ]
    },
    {
      "cell_type": "markdown",
      "metadata": {
        "id": "8XkhEvNmxLng"
      },
      "source": [
        "PGroongaを導入します。"
      ]
    },
    {
      "cell_type": "code",
      "execution_count": 9,
      "metadata": {
        "colab": {
          "base_uri": "https://localhost:8080/"
        },
        "id": "jXtu0qxgC7X9",
        "outputId": "49ebd8ca-22a3-43e3-9da4-438142c06c8e"
      },
      "outputs": [
        {
          "name": "stdout",
          "output_type": "stream",
          "text": [
            "CREATE EXTENSION\n"
          ]
        }
      ],
      "source": [
        "!sudo -u postgres -H psql -d db --command 'CREATE EXTENSION pgroonga'"
      ]
    },
    {
      "cell_type": "markdown",
      "metadata": {
        "id": "fuPDo3xBxSBV"
      },
      "source": [
        "## データーのインポート"
      ]
    },
    {
      "cell_type": "markdown",
      "metadata": {
        "id": "BP6LBWd7xXcJ"
      },
      "source": [
        "テーブルを作成します。"
      ]
    },
    {
      "cell_type": "code",
      "execution_count": 10,
      "metadata": {
        "colab": {
          "base_uri": "https://localhost:8080/"
        },
        "id": "zv6PPzecE2XI",
        "outputId": "9a840784-8b84-404c-f743-6af428470d31"
      },
      "outputs": [
        {
          "name": "stdout",
          "output_type": "stream",
          "text": [
            "CREATE TABLE\n"
          ]
        }
      ],
      "source": [
        "!sudo -u postgres -H psql -d db --command 'CREATE TABLE wiki_jp (title text, body text)'"
      ]
    },
    {
      "cell_type": "markdown",
      "metadata": {
        "id": "dxL-73ORxciJ"
      },
      "source": [
        "データを50万件読み込みます。"
      ]
    },
    {
      "cell_type": "code",
      "execution_count": 11,
      "metadata": {
        "colab": {
          "base_uri": "https://localhost:8080/",
          "height": 106,
          "referenced_widgets": [
            "9ed361043b98428f9f92eab9b5083261",
            "ac3a5685568e4940bf9dc6b927022db8",
            "33b342aa4c2a441d9f4324905f253b41",
            "f7c4d1d499b944bbb14918c9aa42869a",
            "feffaa56968e4d8e9da492810c1e8884",
            "a94a5a14219945009bc0e0f779032040",
            "8565e48346464b8196e938678a2a8437",
            "4e04ee78a4754e3bb3fa229686f4e479",
            "86cde8868c5f47f492fbd6a6c002dba6",
            "0966ac5f23b247a79c547dd5a806d067",
            "d909d0a6bb7446938fc283ed0b223663"
          ]
        },
        "id": "q2T78mjLHze5",
        "outputId": "d51b2736-9066-4af4-ad1d-4c35a9ca8fee"
      },
      "outputs": [
        {
          "name": "stderr",
          "output_type": "stream",
          "text": [
            "/usr/local/lib/python3.7/dist-packages/psycopg2/__init__.py:144: UserWarning: The psycopg2 wheel package will be renamed from release 2.8; in order to keep installing from binary please use \"pip install psycopg2-binary\" instead. For details see: <http://initd.org/psycopg/docs/install.html#binary-install-from-pypi>.\n",
            "  \"\"\")\n"
          ]
        },
        {
          "data": {
            "application/vnd.jupyter.widget-view+json": {
              "model_id": "9ed361043b98428f9f92eab9b5083261",
              "version_major": 2,
              "version_minor": 0
            },
            "text/plain": [
              "  0%|          | 0/750000.0 [00:00<?, ?it/s]"
            ]
          },
          "metadata": {},
          "output_type": "display_data"
        }
      ],
      "source": [
        "import psycopg2\n",
        "import bz2\n",
        "import json\n",
        "from tqdm.notebook import tqdm\n",
        "\n",
        "db = psycopg2.connect(database=\"db\", user=\"postgres\")\n",
        "cursor = db.cursor()\n",
        "\n",
        "cursor.execute('drop table if exists wiki_jp')\n",
        "cursor.execute('create table wiki_jp(title text, body text)')\n",
        "\n",
        "limit = 500000\n",
        "insert_wiki = 'insert into wiki_jp (title, body) values (%s, %s);'\n",
        "\n",
        "with bz2.open('/content/drive/MyDrive/wiki.json.bz2', 'rt', encoding='utf-8') as fin:\n",
        "    n = 0\n",
        "    for line in tqdm(fin, total=limit*1.5):\n",
        "        data = json.loads(line)\n",
        "        title = data['title'].strip()\n",
        "        body = data['text'].replace('\\n', '')\n",
        "        if len(title) > 0 and len(body) > 0:\n",
        "            cursor.execute(insert_wiki, (title, body))\n",
        "            n += 1\n",
        "        if n == limit:\n",
        "            break\n",
        "db.commit()\n",
        "db.close()"
      ]
    },
    {
      "cell_type": "markdown",
      "metadata": {
        "id": "wUSZwwe01H57"
      },
      "source": [
        "登録件数を確認します。"
      ]
    },
    {
      "cell_type": "code",
      "execution_count": 12,
      "metadata": {
        "colab": {
          "base_uri": "https://localhost:8080/"
        },
        "id": "qiA6wJFZ1QIa",
        "outputId": "d03a3e15-8192-4b42-8014-95f373117161"
      },
      "outputs": [
        {
          "name": "stdout",
          "output_type": "stream",
          "text": [
            " count  \n",
            "--------\n",
            " 500000\n",
            "(1 row)\n",
            "\n"
          ]
        }
      ],
      "source": [
        "!echo \"select count(*) from wiki_jp;\" | sudo -u postgres psql db"
      ]
    },
    {
      "cell_type": "markdown",
      "metadata": {
        "id": "an3WosBIyq9r"
      },
      "source": [
        "## インデックス無しの検索"
      ]
    },
    {
      "cell_type": "markdown",
      "metadata": {
        "id": "IoQoxkt2zUqi"
      },
      "source": [
        "検索時間を測定するためのオプションを追加した検索コマンドをファイルに書き込みます。"
      ]
    },
    {
      "cell_type": "code",
      "execution_count": 13,
      "metadata": {
        "colab": {
          "base_uri": "https://localhost:8080/"
        },
        "id": "sAa5rH1oOhMk",
        "outputId": "d8af2139-7ba3-4753-d34d-e88b87b6dd7c"
      },
      "outputs": [
        {
          "name": "stdout",
          "output_type": "stream",
          "text": [
            "Writing command.txt\n"
          ]
        }
      ],
      "source": [
        "%%writefile command.txt\n",
        "\\timing\n",
        "select * from wiki_jp where body &@ '日本語';"
      ]
    },
    {
      "cell_type": "markdown",
      "metadata": {
        "id": "QYM_fJZwz9Rn"
      },
      "source": [
        "1回目"
      ]
    },
    {
      "cell_type": "code",
      "execution_count": 14,
      "metadata": {
        "colab": {
          "base_uri": "https://localhost:8080/"
        },
        "id": "0LB6ZNVUy3QH",
        "outputId": "6a81af77-27f6-4ab4-a287-0fa9223d76bd"
      },
      "outputs": [
        {
          "name": "stdout",
          "output_type": "stream",
          "text": [
            "(17006 rows)\n",
            "\n",
            "Time: 34130.679 ms (00:34.131)\n",
            "CPU times: user 335 ms, sys: 40.1 ms, total: 375 ms\n",
            "Wall time: 42.5 s\n"
          ]
        }
      ],
      "source": [
        "%%time\n",
        "!sudo -u postgres psql db < command.txt | tail -3"
      ]
    },
    {
      "cell_type": "markdown",
      "metadata": {
        "id": "69iv-EkTz_BC"
      },
      "source": [
        "2回目"
      ]
    },
    {
      "cell_type": "code",
      "execution_count": 15,
      "metadata": {
        "colab": {
          "base_uri": "https://localhost:8080/"
        },
        "id": "Et4T52Abz8Is",
        "outputId": "a7ed6961-64e0-46c0-829f-28479ab74161"
      },
      "outputs": [
        {
          "name": "stdout",
          "output_type": "stream",
          "text": [
            "(17006 rows)\n",
            "\n",
            "Time: 34811.219 ms (00:34.811)\n",
            "CPU times: user 345 ms, sys: 49.1 ms, total: 394 ms\n",
            "Wall time: 43.6 s\n"
          ]
        }
      ],
      "source": [
        "%%time\n",
        "!sudo -u postgres psql db < command.txt | tail -3"
      ]
    },
    {
      "cell_type": "markdown",
      "metadata": {
        "id": "Hf-49MONfZgf"
      },
      "source": [
        "pg_bigmを入れてインデックス無しで測定した場合より3倍時間がかかっています。PostgreSQLのバージョンの違いによるものかもしれません。pg_bigmを入れるために最新版のソースからビルドしたため、あちらはversion 14.1ですが、こちらは10.19です。それでは14にと思いましたが、ColabのUbuntuはバージョン18で、その場合、pgroongaはpostgresql-10にしか対応していないとのことで、諦めました。ColabのUbuntuのバージョンが変わったら、試しましょう。"
      ]
    },
    {
      "cell_type": "code",
      "execution_count": 8,
      "metadata": {
        "colab": {
          "base_uri": "https://localhost:8080/"
        },
        "id": "a9AesgM1hXov",
        "outputId": "50985f7a-f2dc-4f39-b266-3881467abee7"
      },
      "outputs": [
        {
          "name": "stdout",
          "output_type": "stream",
          "text": [
            "psql (PostgreSQL) 10.19 (Ubuntu 10.19-0ubuntu0.18.04.1)\n"
          ]
        }
      ],
      "source": [
        "!psql -V"
      ]
    },
    {
      "cell_type": "markdown",
      "metadata": {
        "id": "YlHIPAd-zmAQ"
      },
      "source": [
        "*参考のため、titleのみを抽出する場合も測定します。*"
      ]
    },
    {
      "cell_type": "code",
      "execution_count": 16,
      "metadata": {
        "colab": {
          "base_uri": "https://localhost:8080/"
        },
        "id": "WnrXlAT2zxwO",
        "outputId": "75ba3f99-c77c-4ef3-e479-52d614fab053"
      },
      "outputs": [
        {
          "name": "stdout",
          "output_type": "stream",
          "text": [
            "Writing command2.txt\n"
          ]
        }
      ],
      "source": [
        "%%writefile command2.txt\n",
        "\\timing\n",
        "select title from wiki_jp where body &@ '日本語';"
      ]
    },
    {
      "cell_type": "code",
      "execution_count": 17,
      "metadata": {
        "colab": {
          "base_uri": "https://localhost:8080/"
        },
        "id": "cyAYL0Nsz3ou",
        "outputId": "c3ed3955-5fdb-43a5-8b29-befb7e88a0da"
      },
      "outputs": [
        {
          "name": "stdout",
          "output_type": "stream",
          "text": [
            "(17006 rows)\n",
            "\n",
            "Time: 33133.625 ms (00:33.134)\n",
            "CPU times: user 258 ms, sys: 40.4 ms, total: 299 ms\n",
            "Wall time: 33.3 s\n"
          ]
        }
      ],
      "source": [
        "%%time\n",
        "!sudo -u postgres psql db < command2.txt | tail -3"
      ]
    },
    {
      "cell_type": "markdown",
      "metadata": {
        "id": "c5F8gab-crJ0"
      },
      "source": [
        "内部の検索処理の時間はほぼ変わりありません。Wall timeに違いがありますが、これは検索結果のサイズの違いにより、それをパイプで転送する時間に差が出ているものと思われます。"
      ]
    },
    {
      "cell_type": "markdown",
      "metadata": {
        "id": "w7zc0P-hzEi6"
      },
      "source": [
        "## インデックス有りの検索"
      ]
    },
    {
      "cell_type": "markdown",
      "metadata": {
        "id": "9RNKeirPzJZz"
      },
      "source": [
        "インデックスを作成します。"
      ]
    },
    {
      "cell_type": "code",
      "execution_count": 18,
      "metadata": {
        "colab": {
          "base_uri": "https://localhost:8080/"
        },
        "id": "4wAoGDLHHME4",
        "outputId": "d16830a9-fd7a-4773-eb88-91bed04df811"
      },
      "outputs": [
        {
          "name": "stdout",
          "output_type": "stream",
          "text": [
            "CREATE INDEX\n",
            "CPU times: user 3.35 s, sys: 416 ms, total: 3.77 s\n",
            "Wall time: 7min 9s\n"
          ]
        }
      ],
      "source": [
        "%%time\n",
        "!sudo -u postgres -H psql -d db --command 'CREATE INDEX pgroonga_body_index ON wiki_jp using pgroonga (body)'"
      ]
    },
    {
      "cell_type": "markdown",
      "metadata": {
        "id": "ubGFL3e5zO52"
      },
      "source": [
        "1回目"
      ]
    },
    {
      "cell_type": "code",
      "execution_count": 30,
      "metadata": {
        "colab": {
          "base_uri": "https://localhost:8080/"
        },
        "id": "jUfPgFWiOuiV",
        "outputId": "a5fec836-bada-45e0-abdd-36ececc5ec7e"
      },
      "outputs": [
        {
          "name": "stdout",
          "output_type": "stream",
          "text": [
            "(17006 rows)\n",
            "\n",
            "Time: 1809.901 ms (00:01.810)\n",
            "CPU times: user 88.6 ms, sys: 19.2 ms, total: 108 ms\n",
            "Wall time: 10.6 s\n"
          ]
        }
      ],
      "source": [
        "%%time\n",
        "!sudo -u postgres psql db < command.txt | tail -3"
      ]
    },
    {
      "cell_type": "markdown",
      "metadata": {
        "id": "AklbrFsM0XNw"
      },
      "source": [
        "2回目"
      ]
    },
    {
      "cell_type": "code",
      "execution_count": 26,
      "metadata": {
        "colab": {
          "base_uri": "https://localhost:8080/"
        },
        "id": "dQ34B23D0aty",
        "outputId": "f60c4bf3-0200-4d7d-eb15-f7e7d952fc06"
      },
      "outputs": [
        {
          "name": "stdout",
          "output_type": "stream",
          "text": [
            "(17006 rows)\n",
            "\n",
            "Time: 1363.482 ms (00:01.363)\n",
            "CPU times: user 85.5 ms, sys: 17.1 ms, total: 103 ms\n",
            "Wall time: 10.3 s\n"
          ]
        }
      ],
      "source": [
        "%%time\n",
        "!sudo -u postgres psql db < command.txt | tail -3"
      ]
    },
    {
      "cell_type": "markdown",
      "metadata": {
        "id": "peOuOUbxaey2"
      },
      "source": [
        "インデックスを使わない検索よりも内部の検索時間で25倍、データ転送を含めた全体の処理でも半分の時間で検索できています。ただ、PostgreSQLのpg_bigramを使った全文検索とほぼ同じ検索時間なので、このクエリではPGroongaを使う利点はなさそうです。"
      ]
    },
    {
      "cell_type": "markdown",
      "metadata": {
        "id": "GYQV1DXT0cAe"
      },
      "source": [
        "参考にtitleのみを抽出した場合"
      ]
    },
    {
      "cell_type": "code",
      "execution_count": 27,
      "metadata": {
        "colab": {
          "base_uri": "https://localhost:8080/"
        },
        "id": "6jvJhh-Q0jvu",
        "outputId": "e8482027-a300-4917-c01c-88506df21bfb"
      },
      "outputs": [
        {
          "name": "stdout",
          "output_type": "stream",
          "text": [
            "(17006 rows)\n",
            "\n",
            "Time: 209.340 ms\n",
            "CPU times: user 9.55 ms, sys: 5.2 ms, total: 14.8 ms\n",
            "Wall time: 415 ms\n"
          ]
        }
      ],
      "source": [
        "%%time\n",
        "!sudo -u postgres psql db < command2.txt | tail -3"
      ]
    },
    {
      "cell_type": "markdown",
      "metadata": {
        "id": "dPdj3tnjeTXF"
      },
      "source": [
        "さらに内部の検索時間で6倍、全体の処理でも20倍速くなっています。また、pg_ngrmよりも内部の検索で9倍、全体では20倍速くなっています。使い方によってはPGroongaが威力を発揮するようです。\n",
        "\n",
        "データベースの検索時間は大きなデータの取得時間が大半を占めるため、よくデータを絞ってからデータを取得するのが良い戦略になります。"
      ]
    },
    {
      "cell_type": "markdown",
      "metadata": {
        "id": "KRyT2m950PGC"
      },
      "source": [
        "## PostgreSQLの停止"
      ]
    },
    {
      "cell_type": "code",
      "execution_count": 28,
      "metadata": {
        "colab": {
          "base_uri": "https://localhost:8080/"
        },
        "id": "UFRzVm3MP-P6",
        "outputId": "c4ae7452-8796-4cdc-a00a-d144b4c91a35"
      },
      "outputs": [
        {
          "name": "stdout",
          "output_type": "stream",
          "text": [
            " * Stopping PostgreSQL 10 database server\n",
            "   ...done.\n"
          ]
        }
      ],
      "source": [
        "!service postgresql stop"
      ]
    }
  ],
  "metadata": {
    "colab": {
      "collapsed_sections": [
        "ontwwvVwWwmt"
      ],
      "name": "全文検索_Pgroonga.ipynb",
      "provenance": []
    },
    "kernelspec": {
      "display_name": "Python 3",
      "name": "python3"
    },
    "language_info": {
      "name": "python"
    },
    "widgets": {
      "application/vnd.jupyter.widget-state+json": {
        "0966ac5f23b247a79c547dd5a806d067": {
          "model_module": "@jupyter-widgets/base",
          "model_module_version": "1.2.0",
          "model_name": "LayoutModel",
          "state": {
            "_model_module": "@jupyter-widgets/base",
            "_model_module_version": "1.2.0",
            "_model_name": "LayoutModel",
            "_view_count": null,
            "_view_module": "@jupyter-widgets/base",
            "_view_module_version": "1.2.0",
            "_view_name": "LayoutView",
            "align_content": null,
            "align_items": null,
            "align_self": null,
            "border": null,
            "bottom": null,
            "display": null,
            "flex": null,
            "flex_flow": null,
            "grid_area": null,
            "grid_auto_columns": null,
            "grid_auto_flow": null,
            "grid_auto_rows": null,
            "grid_column": null,
            "grid_gap": null,
            "grid_row": null,
            "grid_template_areas": null,
            "grid_template_columns": null,
            "grid_template_rows": null,
            "height": null,
            "justify_content": null,
            "justify_items": null,
            "left": null,
            "margin": null,
            "max_height": null,
            "max_width": null,
            "min_height": null,
            "min_width": null,
            "object_fit": null,
            "object_position": null,
            "order": null,
            "overflow": null,
            "overflow_x": null,
            "overflow_y": null,
            "padding": null,
            "right": null,
            "top": null,
            "visibility": null,
            "width": null
          }
        },
        "33b342aa4c2a441d9f4324905f253b41": {
          "model_module": "@jupyter-widgets/controls",
          "model_module_version": "1.5.0",
          "model_name": "FloatProgressModel",
          "state": {
            "_dom_classes": [],
            "_model_module": "@jupyter-widgets/controls",
            "_model_module_version": "1.5.0",
            "_model_name": "FloatProgressModel",
            "_view_count": null,
            "_view_module": "@jupyter-widgets/controls",
            "_view_module_version": "1.5.0",
            "_view_name": "ProgressView",
            "bar_style": "danger",
            "description": "",
            "description_tooltip": null,
            "layout": "IPY_MODEL_4e04ee78a4754e3bb3fa229686f4e479",
            "max": 750000,
            "min": 0,
            "orientation": "horizontal",
            "style": "IPY_MODEL_86cde8868c5f47f492fbd6a6c002dba6",
            "value": 750000
          }
        },
        "4e04ee78a4754e3bb3fa229686f4e479": {
          "model_module": "@jupyter-widgets/base",
          "model_module_version": "1.2.0",
          "model_name": "LayoutModel",
          "state": {
            "_model_module": "@jupyter-widgets/base",
            "_model_module_version": "1.2.0",
            "_model_name": "LayoutModel",
            "_view_count": null,
            "_view_module": "@jupyter-widgets/base",
            "_view_module_version": "1.2.0",
            "_view_name": "LayoutView",
            "align_content": null,
            "align_items": null,
            "align_self": null,
            "border": null,
            "bottom": null,
            "display": null,
            "flex": null,
            "flex_flow": null,
            "grid_area": null,
            "grid_auto_columns": null,
            "grid_auto_flow": null,
            "grid_auto_rows": null,
            "grid_column": null,
            "grid_gap": null,
            "grid_row": null,
            "grid_template_areas": null,
            "grid_template_columns": null,
            "grid_template_rows": null,
            "height": null,
            "justify_content": null,
            "justify_items": null,
            "left": null,
            "margin": null,
            "max_height": null,
            "max_width": null,
            "min_height": null,
            "min_width": null,
            "object_fit": null,
            "object_position": null,
            "order": null,
            "overflow": null,
            "overflow_x": null,
            "overflow_y": null,
            "padding": null,
            "right": null,
            "top": null,
            "visibility": null,
            "width": null
          }
        },
        "8565e48346464b8196e938678a2a8437": {
          "model_module": "@jupyter-widgets/controls",
          "model_module_version": "1.5.0",
          "model_name": "DescriptionStyleModel",
          "state": {
            "_model_module": "@jupyter-widgets/controls",
            "_model_module_version": "1.5.0",
            "_model_name": "DescriptionStyleModel",
            "_view_count": null,
            "_view_module": "@jupyter-widgets/base",
            "_view_module_version": "1.2.0",
            "_view_name": "StyleView",
            "description_width": ""
          }
        },
        "86cde8868c5f47f492fbd6a6c002dba6": {
          "model_module": "@jupyter-widgets/controls",
          "model_module_version": "1.5.0",
          "model_name": "ProgressStyleModel",
          "state": {
            "_model_module": "@jupyter-widgets/controls",
            "_model_module_version": "1.5.0",
            "_model_name": "ProgressStyleModel",
            "_view_count": null,
            "_view_module": "@jupyter-widgets/base",
            "_view_module_version": "1.2.0",
            "_view_name": "StyleView",
            "bar_color": null,
            "description_width": ""
          }
        },
        "9ed361043b98428f9f92eab9b5083261": {
          "model_module": "@jupyter-widgets/controls",
          "model_module_version": "1.5.0",
          "model_name": "HBoxModel",
          "state": {
            "_dom_classes": [],
            "_model_module": "@jupyter-widgets/controls",
            "_model_module_version": "1.5.0",
            "_model_name": "HBoxModel",
            "_view_count": null,
            "_view_module": "@jupyter-widgets/controls",
            "_view_module_version": "1.5.0",
            "_view_name": "HBoxView",
            "box_style": "",
            "children": [
              "IPY_MODEL_ac3a5685568e4940bf9dc6b927022db8",
              "IPY_MODEL_33b342aa4c2a441d9f4324905f253b41",
              "IPY_MODEL_f7c4d1d499b944bbb14918c9aa42869a"
            ],
            "layout": "IPY_MODEL_feffaa56968e4d8e9da492810c1e8884"
          }
        },
        "a94a5a14219945009bc0e0f779032040": {
          "model_module": "@jupyter-widgets/base",
          "model_module_version": "1.2.0",
          "model_name": "LayoutModel",
          "state": {
            "_model_module": "@jupyter-widgets/base",
            "_model_module_version": "1.2.0",
            "_model_name": "LayoutModel",
            "_view_count": null,
            "_view_module": "@jupyter-widgets/base",
            "_view_module_version": "1.2.0",
            "_view_name": "LayoutView",
            "align_content": null,
            "align_items": null,
            "align_self": null,
            "border": null,
            "bottom": null,
            "display": null,
            "flex": null,
            "flex_flow": null,
            "grid_area": null,
            "grid_auto_columns": null,
            "grid_auto_flow": null,
            "grid_auto_rows": null,
            "grid_column": null,
            "grid_gap": null,
            "grid_row": null,
            "grid_template_areas": null,
            "grid_template_columns": null,
            "grid_template_rows": null,
            "height": null,
            "justify_content": null,
            "justify_items": null,
            "left": null,
            "margin": null,
            "max_height": null,
            "max_width": null,
            "min_height": null,
            "min_width": null,
            "object_fit": null,
            "object_position": null,
            "order": null,
            "overflow": null,
            "overflow_x": null,
            "overflow_y": null,
            "padding": null,
            "right": null,
            "top": null,
            "visibility": null,
            "width": null
          }
        },
        "ac3a5685568e4940bf9dc6b927022db8": {
          "model_module": "@jupyter-widgets/controls",
          "model_module_version": "1.5.0",
          "model_name": "HTMLModel",
          "state": {
            "_dom_classes": [],
            "_model_module": "@jupyter-widgets/controls",
            "_model_module_version": "1.5.0",
            "_model_name": "HTMLModel",
            "_view_count": null,
            "_view_module": "@jupyter-widgets/controls",
            "_view_module_version": "1.5.0",
            "_view_name": "HTMLView",
            "description": "",
            "description_tooltip": null,
            "layout": "IPY_MODEL_a94a5a14219945009bc0e0f779032040",
            "placeholder": "​",
            "style": "IPY_MODEL_8565e48346464b8196e938678a2a8437",
            "value": ""
          }
        },
        "d909d0a6bb7446938fc283ed0b223663": {
          "model_module": "@jupyter-widgets/controls",
          "model_module_version": "1.5.0",
          "model_name": "DescriptionStyleModel",
          "state": {
            "_model_module": "@jupyter-widgets/controls",
            "_model_module_version": "1.5.0",
            "_model_name": "DescriptionStyleModel",
            "_view_count": null,
            "_view_module": "@jupyter-widgets/base",
            "_view_module_version": "1.2.0",
            "_view_name": "StyleView",
            "description_width": ""
          }
        },
        "f7c4d1d499b944bbb14918c9aa42869a": {
          "model_module": "@jupyter-widgets/controls",
          "model_module_version": "1.5.0",
          "model_name": "HTMLModel",
          "state": {
            "_dom_classes": [],
            "_model_module": "@jupyter-widgets/controls",
            "_model_module_version": "1.5.0",
            "_model_name": "HTMLModel",
            "_view_count": null,
            "_view_module": "@jupyter-widgets/controls",
            "_view_module_version": "1.5.0",
            "_view_name": "HTMLView",
            "description": "",
            "description_tooltip": null,
            "layout": "IPY_MODEL_0966ac5f23b247a79c547dd5a806d067",
            "placeholder": "​",
            "style": "IPY_MODEL_d909d0a6bb7446938fc283ed0b223663",
            "value": " 779788/? [10:17&lt;00:00, 1818.83it/s]"
          }
        },
        "feffaa56968e4d8e9da492810c1e8884": {
          "model_module": "@jupyter-widgets/base",
          "model_module_version": "1.2.0",
          "model_name": "LayoutModel",
          "state": {
            "_model_module": "@jupyter-widgets/base",
            "_model_module_version": "1.2.0",
            "_model_name": "LayoutModel",
            "_view_count": null,
            "_view_module": "@jupyter-widgets/base",
            "_view_module_version": "1.2.0",
            "_view_name": "LayoutView",
            "align_content": null,
            "align_items": null,
            "align_self": null,
            "border": null,
            "bottom": null,
            "display": null,
            "flex": null,
            "flex_flow": null,
            "grid_area": null,
            "grid_auto_columns": null,
            "grid_auto_flow": null,
            "grid_auto_rows": null,
            "grid_column": null,
            "grid_gap": null,
            "grid_row": null,
            "grid_template_areas": null,
            "grid_template_columns": null,
            "grid_template_rows": null,
            "height": null,
            "justify_content": null,
            "justify_items": null,
            "left": null,
            "margin": null,
            "max_height": null,
            "max_width": null,
            "min_height": null,
            "min_width": null,
            "object_fit": null,
            "object_position": null,
            "order": null,
            "overflow": null,
            "overflow_x": null,
            "overflow_y": null,
            "padding": null,
            "right": null,
            "top": null,
            "visibility": null,
            "width": null
          }
        }
      }
    }
  },
  "nbformat": 4,
  "nbformat_minor": 0
}
